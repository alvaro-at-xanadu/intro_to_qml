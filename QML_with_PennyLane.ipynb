{
 "cells": [
  {
   "cell_type": "markdown",
   "id": "9319df17",
   "metadata": {
    "slideshow": {
     "slide_type": "slide"
    }
   },
   "source": [
    "# Introduction to PennyLane\n",
    "\n",
    "![PennyLane Logo](images/pennylane_logo.png)\n",
    "\n",
    "By: Alvaro Ballon / Xanadu"
   ]
  },
  {
   "cell_type": "markdown",
   "id": "16951f09",
   "metadata": {
    "slideshow": {
     "slide_type": "subslide"
    }
   },
   "source": [
    "### What is PennyLane?"
   ]
  },
  {
   "cell_type": "markdown",
   "id": "8d50d2d2",
   "metadata": {
    "slideshow": {
     "slide_type": "fragment"
    }
   },
   "source": [
    "PennyLane is an open source Quantum Software Development Framework. \n",
    "\n",
    "- It allows us to build any quantum circuit to simulate quantum algorithms.\n",
    "- It gives us access to the best quantum simulators and hardware available.\n",
    "- It has built-in automatic differentiation for quantum circuits\n",
    "- Connects to classical Machine Learning libraries to build quantum-classical models"
   ]
  },
  {
   "cell_type": "markdown",
   "id": "e2c6bfc4",
   "metadata": {
    "slideshow": {
     "slide_type": "slide"
    }
   },
   "source": [
    "### Building our first quantum circuit in PennyLane"
   ]
  },
  {
   "cell_type": "markdown",
   "id": "df05cbe1",
   "metadata": {
    "slideshow": {
     "slide_type": "subslide"
    }
   },
   "source": [
    "**Step 0:** Importing PennyLane"
   ]
  },
  {
   "cell_type": "code",
   "execution_count": 1,
   "id": "468d4500",
   "metadata": {
    "slideshow": {
     "slide_type": "fragment"
    }
   },
   "outputs": [],
   "source": [
    "import pennylane as qml\n",
    "from pennylane import numpy as np"
   ]
  },
  {
   "cell_type": "markdown",
   "id": "3d3b65d3",
   "metadata": {
    "slideshow": {
     "slide_type": "subslide"
    }
   },
   "source": [
    "**Step 1:** Choosing your quantum device:\n",
    "\n",
    "- `default.qubit`: Run-of-the-mill device that works with pure qubit states.\n",
    "- `default.mixed`: Device that works with mixed states.\n",
    "- `lightning.qubit`: Faster simulator, with a backend coded in C++ for efficiency.\n",
    "- `default.gaussian`: For continuous variable systems."
   ]
  },
  {
   "cell_type": "markdown",
   "id": "01ba3d67",
   "metadata": {
    "slideshow": {
     "slide_type": "fragment"
    }
   },
   "source": [
    "We will focus on default qubit, since we'll be doing very simple simulations. Let's define a device with two qubits (wires)."
   ]
  },
  {
   "cell_type": "code",
   "execution_count": 2,
   "id": "f0108978",
   "metadata": {
    "slideshow": {
     "slide_type": "fragment"
    }
   },
   "outputs": [],
   "source": [
    "dev = qml.device('default.qubit', wires = 2)"
   ]
  },
  {
   "cell_type": "markdown",
   "id": "0ea739cc",
   "metadata": {
    "slideshow": {
     "slide_type": "subslide"
    }
   },
   "source": [
    "**Step 2:** Building your quantum circuit"
   ]
  },
  {
   "cell_type": "markdown",
   "id": "2b88db58",
   "metadata": {
    "slideshow": {
     "slide_type": "fragment"
    }
   },
   "source": [
    "We wil define a function `quantum_circuit`, which will implement the quantum circuit shown below:"
   ]
  },
  {
   "cell_type": "markdown",
   "id": "7890488c",
   "metadata": {
    "slideshow": {
     "slide_type": "fragment"
    }
   },
   "source": [
    "![Simple circuit](images/simple_circuit.png)"
   ]
  },
  {
   "cell_type": "markdown",
   "id": "1970cfb7",
   "metadata": {
    "slideshow": {
     "slide_type": "subslide"
    }
   },
   "source": [
    "![Simple circuit](images/simple_circuit.png)"
   ]
  },
  {
   "cell_type": "code",
   "execution_count": 3,
   "id": "26d71511",
   "metadata": {
    "slideshow": {
     "slide_type": "fragment"
    }
   },
   "outputs": [],
   "source": [
    "def quantum_circuit():\n",
    "    qml.Hadamard(wires = 0)\n",
    "    qml.CNOT(wires = [0,1])\n",
    "    qml.PauliX(wires = 1)"
   ]
  },
  {
   "cell_type": "markdown",
   "id": "a3aacc0a",
   "metadata": {
    "slideshow": {
     "slide_type": "subslide"
    }
   },
   "source": [
    "However, if we call quantum_circuit(), nothing happens! This is not surprising since we are not `returning` anything. A quantum circuit is just a list of successive operations. "
   ]
  },
  {
   "cell_type": "markdown",
   "id": "9a1e2b5f",
   "metadata": {
    "slideshow": {
     "slide_type": "subslide"
    }
   },
   "source": [
    "**Step 3:** Put device and circuit together into a QNode"
   ]
  },
  {
   "cell_type": "markdown",
   "id": "6bbd1f9f",
   "metadata": {
    "slideshow": {
     "slide_type": "fragment"
    }
   },
   "source": [
    "There are two reasons our circuit doesn't work. One is that it doesn't have a device to run on, it's just an abstract platonic circuit. When we assign a device to it, it becomes a QNode. We do this using a decorator"
   ]
  },
  {
   "cell_type": "code",
   "execution_count": null,
   "id": "081d12dc",
   "metadata": {
    "slideshow": {
     "slide_type": "fragment"
    }
   },
   "outputs": [],
   "source": [
    "@qml.qnode(dev) # Remember that we defined this device before!\n",
    "def quantum_node():\n",
    "    quantum_circuit()\n",
    "    return something!"
   ]
  },
  {
   "cell_type": "markdown",
   "id": "f6eeea27",
   "metadata": {
    "slideshow": {
     "slide_type": "fragment"
    }
   },
   "source": [
    "But unlike quantum circuits, QNodes need to return something. That is, we need to measure!"
   ]
  },
  {
   "cell_type": "code",
   "execution_count": 4,
   "id": "050b6469",
   "metadata": {
    "slideshow": {
     "slide_type": "subslide"
    }
   },
   "outputs": [],
   "source": [
    "@qml.qnode(dev)\n",
    "def quantum_node():\n",
    "    quantum_circuit()\n",
    "    return qml.probs(wires=0)"
   ]
  },
  {
   "cell_type": "code",
   "execution_count": 5,
   "id": "cca38aec",
   "metadata": {
    "slideshow": {
     "slide_type": "fragment"
    }
   },
   "outputs": [
    {
     "data": {
      "text/plain": [
       "tensor([0.5, 0.5], requires_grad=True)"
      ]
     },
     "execution_count": 5,
     "metadata": {},
     "output_type": "execute_result"
    }
   ],
   "source": [
    "quantum_node()"
   ]
  },
  {
   "cell_type": "markdown",
   "id": "4ecd221a",
   "metadata": {
    "slideshow": {
     "slide_type": "fragment"
    }
   },
   "source": [
    "This is telling us that the probability of measuring $\\vert 0 \\rangle$ is 0.5, and so is the probability of measuring $\\vert 1 \\rangle$. All measurements are done in the computational basis! Let's try other measurements!"
   ]
  },
  {
   "cell_type": "code",
   "execution_count": 6,
   "id": "6b5ca07a",
   "metadata": {
    "slideshow": {
     "slide_type": "subslide"
    }
   },
   "outputs": [
    {
     "data": {
      "text/plain": [
       "tensor([0. , 0.5, 0.5, 0. ], requires_grad=True)"
      ]
     },
     "execution_count": 6,
     "metadata": {},
     "output_type": "execute_result"
    }
   ],
   "source": [
    "@qml.qnode(dev)\n",
    "def quantum_node():\n",
    "    quantum_circuit()\n",
    "    return qml.probs(wires=[0,1])\n",
    "quantum_node()"
   ]
  },
  {
   "cell_type": "code",
   "execution_count": 7,
   "id": "c77837c1",
   "metadata": {
    "slideshow": {
     "slide_type": "subslide"
    }
   },
   "outputs": [
    {
     "data": {
      "text/plain": [
       "tensor([0., 0., 0.], requires_grad=True)"
      ]
     },
     "execution_count": 7,
     "metadata": {},
     "output_type": "execute_result"
    }
   ],
   "source": [
    "@qml.qnode(dev)\n",
    "def quantum_node():\n",
    "    quantum_circuit()\n",
    "    return qml.expval(qml.PauliX(0)), qml.expval(qml.PauliY(0)), qml.expval(qml.PauliZ(0))\n",
    "quantum_node()"
   ]
  },
  {
   "cell_type": "code",
   "execution_count": 8,
   "id": "6a2b9850",
   "metadata": {
    "slideshow": {
     "slide_type": "subslide"
    }
   },
   "outputs": [
    {
     "data": {
      "text/plain": [
       "tensor([0.        +0.j, 0.70710678+0.j, 0.70710678+0.j, 0.        +0.j], requires_grad=True)"
      ]
     },
     "execution_count": 8,
     "metadata": {},
     "output_type": "execute_result"
    }
   ],
   "source": [
    "@qml.qnode(dev)\n",
    "def quantum_node():\n",
    "    quantum_circuit()\n",
    "    return qml.state()\n",
    "quantum_node()"
   ]
  },
  {
   "cell_type": "code",
   "execution_count": 9,
   "id": "670c0e02",
   "metadata": {
    "slideshow": {
     "slide_type": "subslide"
    }
   },
   "outputs": [
    {
     "data": {
      "text/plain": [
       "tensor([[0.5+0.j, 0. +0.j],\n",
       "        [0. +0.j, 0.5+0.j]], requires_grad=True)"
      ]
     },
     "execution_count": 9,
     "metadata": {},
     "output_type": "execute_result"
    }
   ],
   "source": [
    "@qml.qnode(dev)\n",
    "def quantum_node():\n",
    "    quantum_circuit()\n",
    "    return qml.density_matrix(wires=[0])\n",
    "quantum_node()"
   ]
  },
  {
   "cell_type": "markdown",
   "id": "26fa2f42",
   "metadata": {
    "slideshow": {
     "slide_type": "subslide"
    }
   },
   "source": [
    "Putting it all together"
   ]
  },
  {
   "cell_type": "code",
   "execution_count": 10,
   "id": "f234ee1a",
   "metadata": {
    "slideshow": {
     "slide_type": "fragment"
    }
   },
   "outputs": [
    {
     "data": {
      "text/plain": [
       "tensor([0.        +0.j, 0.70710678+0.j, 0.70710678+0.j, 0.        +0.j], requires_grad=True)"
      ]
     },
     "execution_count": 10,
     "metadata": {},
     "output_type": "execute_result"
    }
   ],
   "source": [
    "dev = qml.device('default.qubit', wires = 2)\n",
    "\n",
    "@qml.qnode(dev)\n",
    "def quantum_node():\n",
    "    qml.Hadamard(wires = 0)\n",
    "    qml.CNOT(wires = [0,1])\n",
    "    qml.PauliX(wires = 1)\n",
    "    return qml.state()\n",
    "\n",
    "quantum_node()"
   ]
  },
  {
   "cell_type": "markdown",
   "id": "8657014a",
   "metadata": {
    "slideshow": {
     "slide_type": "subslide"
    }
   },
   "source": [
    "### Try it out yourself!"
   ]
  },
  {
   "cell_type": "markdown",
   "id": "1b70ea5a",
   "metadata": {
    "slideshow": {
     "slide_type": "fragment"
    }
   },
   "source": [
    "Try to build the following circuit! Check out the PennyLane documentation to get the commands for any gates that you need!"
   ]
  },
  {
   "cell_type": "markdown",
   "id": "f4d0ada2",
   "metadata": {
    "slideshow": {
     "slide_type": "fragment"
    }
   },
   "source": [
    "![Ising circuit](images/ising_circuit.png)"
   ]
  },
  {
   "cell_type": "markdown",
   "id": "e59f919d",
   "metadata": {
    "slideshow": {
     "slide_type": "subslide"
    }
   },
   "source": [
    "<img src=\"images/ising_circuit.png\" alt=\"Drawing\" style=\"width: 400px;\"/>"
   ]
  },
  {
   "cell_type": "code",
   "execution_count": null,
   "id": "5a977488",
   "metadata": {
    "slideshow": {
     "slide_type": "fragment"
    }
   },
   "outputs": [],
   "source": [
    "dev = qml.device('default.qubit', wires = ...)\n",
    "\n",
    "# Feel free to define any helper quantum circuits here #\n",
    "\n",
    "@qml.qnode(...)\n",
    "def quantum_node(params):\n",
    "    \"\"\"params is an array containing the parameters\"\"\"\n",
    "    ### YOUR CODE HERE ###\n",
    "    return ..."
   ]
  },
  {
   "cell_type": "markdown",
   "id": "b22be8f5",
   "metadata": {
    "slideshow": {
     "slide_type": "fragment"
    }
   },
   "source": [
    "Once you're done, return the expectation value of the PauliZ observable on the first wire $\\alpha = 0.5$, $\\beta = 0.4$, $\\gamma = 0.3$, $\\theta = 0.4$, and $\\phi = 0.5$. "
   ]
  },
  {
   "cell_type": "markdown",
   "id": "1d77650a",
   "metadata": {
    "slideshow": {
     "slide_type": "subslide"
    }
   },
   "source": [
    "**Solution:**"
   ]
  },
  {
   "cell_type": "code",
   "execution_count": 11,
   "id": "62245f83",
   "metadata": {
    "slideshow": {
     "slide_type": "fragment"
    }
   },
   "outputs": [
    {
     "data": {
      "text/plain": [
       "tensor(0.8042689, requires_grad=True)"
      ]
     },
     "execution_count": 11,
     "metadata": {},
     "output_type": "execute_result"
    }
   ],
   "source": [
    "dev = qml.device('default.qubit', wires = 3)\n",
    "\n",
    "def quantum_circuit(params):\n",
    "    \n",
    "    qml.RX(params[0], wires = 0)\n",
    "    qml.RY(params[1], wires = 0)\n",
    "    qml.CNOT(wires=[0,1])\n",
    "    qml.RY(params[2], wires = 1)    \n",
    "    qml.CNOT(wires=[1,2])\n",
    "    qml.RY(params[3], wires = 2)\n",
    "    qml.RY(params[4], wires = 0)    \n",
    "\n",
    "@qml.qnode(dev)\n",
    "def quantum_node(params):\n",
    "    \n",
    "    quantum_circuit(params)\n",
    "    return qml.expval(qml.PauliZ(0))    \n",
    "\n",
    "quantum_node([0.1, 0.4, 0.3, 0.4, 0.5])"
   ]
  },
  {
   "cell_type": "markdown",
   "id": "7674e876",
   "metadata": {
    "slideshow": {
     "slide_type": "subslide"
    }
   },
   "source": [
    "### We have learned:\n",
    "\n",
    "- How to specify devices and build a circuit in PennyLane.\n",
    "- How to assign a circuit to a device and return a measurement.\n",
    "- How to build **parametrized circuits.**"
   ]
  },
  {
   "cell_type": "markdown",
   "id": "4105b8fc",
   "metadata": {
    "slideshow": {
     "slide_type": "slide"
    }
   },
   "source": [
    "### Optimization with Quantum circuits"
   ]
  },
  {
   "cell_type": "markdown",
   "id": "e3b1d84f",
   "metadata": {
    "slideshow": {
     "slide_type": "subslide"
    }
   },
   "source": [
    "We just built a parametrized circuit. Let's ask the following question. For which parameters $\\alpha$, $\\beta$, $\\gamma$, $\\theta$, and $\\phi$. is the expectation value of the PauliZ observable on the first wire minimized? And what is such minimum value?"
   ]
  },
  {
   "cell_type": "markdown",
   "id": "e71eb836",
   "metadata": {
    "slideshow": {
     "slide_type": "subslide"
    }
   },
   "source": [
    "**Step 1:** Define the function that you want to minimize. This is called a \"cost function\"."
   ]
  },
  {
   "cell_type": "code",
   "execution_count": 12,
   "id": "8d1c360d",
   "metadata": {
    "slideshow": {
     "slide_type": "fragment"
    }
   },
   "outputs": [],
   "source": [
    "def cost_function(params):\n",
    "    return quantum_node(params)    "
   ]
  },
  {
   "cell_type": "markdown",
   "id": "ac1d605f",
   "metadata": {
    "slideshow": {
     "slide_type": "subslide"
    }
   },
   "source": [
    "**Step 2:** Set the initial parameters. Usually randomized, but in some cases it can determine which local minimum we converge to."
   ]
  },
  {
   "cell_type": "code",
   "execution_count": 13,
   "id": "fe069632",
   "metadata": {
    "slideshow": {
     "slide_type": "fragment"
    }
   },
   "outputs": [
    {
     "data": {
      "text/plain": [
       "tensor(0.8042689, requires_grad=True)"
      ]
     },
     "execution_count": 13,
     "metadata": {},
     "output_type": "execute_result"
    }
   ],
   "source": [
    "init_params = np.array([0.1,0.4,0.3,0.4,0.5], requires_grad=True)\n",
    "cost_function(init_params)"
   ]
  },
  {
   "cell_type": "markdown",
   "id": "04ab27f7",
   "metadata": {
    "slideshow": {
     "slide_type": "subslide"
    }
   },
   "source": [
    "**Step 3:** Define an optimizer of your choice. We'll use a simple Gradient Descent optimizer"
   ]
  },
  {
   "cell_type": "code",
   "execution_count": 14,
   "id": "e0e2df5a",
   "metadata": {
    "slideshow": {
     "slide_type": "fragment"
    }
   },
   "outputs": [
    {
     "name": "stdout",
     "output_type": "stream",
     "text": [
      "Cost after step    20: -0.9999826\n",
      "Cost after step    40: -1.0000000\n",
      "Cost after step    60: -1.0000000\n",
      "Cost after step    80: -1.0000000\n",
      "Cost after step   100: -1.0000000\n",
      "Optimized parameters: [0.   0.   0.3  0.4  3.14]\n"
     ]
    }
   ],
   "source": [
    "opt = qml.GradientDescentOptimizer(stepsize=0.4)\n",
    "\n",
    "steps = 100\n",
    "\n",
    "params = init_params\n",
    "\n",
    "for i in range(steps):\n",
    "    # update the circuit parameters\n",
    "    params = opt.step(cost_function, params)\n",
    "\n",
    "    if (i + 1) % 20 == 0:\n",
    "        print(\"Cost after step {:5d}: {: .7f}\".format(i + 1, cost_function(params)))\n",
    "\n",
    "print(\"Optimized parameters: {}\".format(params.round(2)))"
   ]
  },
  {
   "cell_type": "markdown",
   "id": "928f9831",
   "metadata": {
    "slideshow": {
     "slide_type": "subslide"
    }
   },
   "source": [
    "Kinda boring, let's do something more fun. VQE for the Transverse Ising Model!\n",
    "\n",
    "Turns out that, for three qubits, all we need is the same circuit, which prepare the most general ground state (taking symmetries into account). The only difference is that the cost function will be the expectation value of the Hamiltonian!"
   ]
  },
  {
   "cell_type": "markdown",
   "id": "d507bfa3",
   "metadata": {
    "slideshow": {
     "slide_type": "fragment"
    }
   },
   "source": [
    "$ H = -\\sum_{i=0}^{n}Z_{i}\\otimes Z_{i+1} - \\sum_{i=0}^{n}X_i$"
   ]
  },
  {
   "cell_type": "markdown",
   "id": "9106bf42",
   "metadata": {
    "slideshow": {
     "slide_type": "fragment"
    }
   },
   "source": [
    "First, we need to create the Hamiltonian (for three spins)"
   ]
  },
  {
   "cell_type": "code",
   "execution_count": 15,
   "id": "3c90c131",
   "metadata": {
    "slideshow": {
     "slide_type": "fragment"
    }
   },
   "outputs": [],
   "source": [
    "H = - qml.PauliZ(0) @ qml.PauliZ(1) - qml.PauliZ(1)@ qml.PauliZ(2) - qml.PauliZ(2) @ qml.PauliZ(0) \n",
    "H = H - 1/2*qml.PauliX(0) - 1/2*qml.PauliX(1) - 1/2*qml.PauliX(2)"
   ]
  },
  {
   "cell_type": "markdown",
   "id": "68b9c603",
   "metadata": {
    "slideshow": {
     "slide_type": "subslide"
    }
   },
   "source": [
    "Minimizing the expectation value of the Hamiltonian corresponds to finding the minimum energy"
   ]
  },
  {
   "cell_type": "code",
   "execution_count": 16,
   "id": "222f3454",
   "metadata": {
    "slideshow": {
     "slide_type": "fragment"
    }
   },
   "outputs": [],
   "source": [
    "@qml.qnode(dev)\n",
    "def quantum_node(params):\n",
    "    \n",
    "    quantum_circuit(params)\n",
    "    return qml.expval(H)"
   ]
  },
  {
   "cell_type": "markdown",
   "id": "17b54393",
   "metadata": {
    "slideshow": {
     "slide_type": "subslide"
    }
   },
   "source": [
    "### Now try optimizing this circuit yourself!|"
   ]
  },
  {
   "cell_type": "code",
   "execution_count": null,
   "id": "14aceb28",
   "metadata": {
    "slideshow": {
     "slide_type": "fragment"
    }
   },
   "outputs": [],
   "source": [
    "def cost_function(params):\n",
    "    return ..."
   ]
  },
  {
   "cell_type": "code",
   "execution_count": null,
   "id": "bdd7fec0",
   "metadata": {
    "slideshow": {
     "slide_type": "fragment"
    }
   },
   "outputs": [],
   "source": [
    "init_params = np.array(..., requires_grad=True)"
   ]
  },
  {
   "cell_type": "code",
   "execution_count": null,
   "id": "bc0ee74d",
   "metadata": {
    "slideshow": {
     "slide_type": "fragment"
    }
   },
   "outputs": [],
   "source": [
    "opt =...\n",
    "\n",
    "steps = ...\n",
    "\n",
    "params = init_params\n",
    "\n",
    "for i in range(steps):\n",
    "    # update the circuit parameters\n",
    "    params = opt.step(cost_function, params)\n",
    "\n",
    "    if (i + 1) % 20 == 0:\n",
    "        print(\"Cost after step {:5d}: {: .7f}\".format(i + 1, cost_function(params)))\n",
    "\n",
    "print(\"Optimized parameters: {}\".format(params.round(2)))"
   ]
  },
  {
   "cell_type": "code",
   "execution_count": 17,
   "id": "fb77f09c",
   "metadata": {
    "slideshow": {
     "slide_type": "subslide"
    }
   },
   "outputs": [],
   "source": [
    "def cost_function(params):\n",
    "    return quantum_node(params)  "
   ]
  },
  {
   "cell_type": "code",
   "execution_count": 18,
   "id": "d1f7e87b",
   "metadata": {
    "slideshow": {
     "slide_type": "fragment"
    }
   },
   "outputs": [],
   "source": [
    "init_params = np.array([0.1,0.4,0.3,0.4,0.5], requires_grad=True)"
   ]
  },
  {
   "cell_type": "code",
   "execution_count": 19,
   "id": "5d06ff00",
   "metadata": {
    "slideshow": {
     "slide_type": "fragment"
    }
   },
   "outputs": [
    {
     "name": "stdout",
     "output_type": "stream",
     "text": [
      "Cost after step    40: -3.1213717\n",
      "Cost after step    80: -3.1236480\n",
      "Cost after step   120: -3.1239722\n",
      "Cost after step   160: -3.1240167\n",
      "Cost after step   200: -3.1240227\n",
      "Optimized parameters: [0.   0.   0.   0.25 0.25]\n"
     ]
    }
   ],
   "source": [
    "opt = qml.GradientDescentOptimizer(stepsize=0.2)\n",
    "\n",
    "steps = 200\n",
    "\n",
    "params = init_params\n",
    "\n",
    "for i in range(steps):\n",
    "    # update the circuit parameters\n",
    "    params = opt.step(cost_function, params)\n",
    "\n",
    "    if (i + 1) % 40 == 0:\n",
    "        print(\"Cost after step {:5d}: {: .7f}\".format(i + 1, cost_function(params)))\n",
    "\n",
    "print(\"Optimized parameters: {}\".format(params.round(2)))"
   ]
  },
  {
   "cell_type": "markdown",
   "id": "bf56c0fb",
   "metadata": {
    "slideshow": {
     "slide_type": "subslide"
    }
   },
   "source": [
    "### Exercise: How would you find the state that corresponds to this energy? (i.e the ground state?)"
   ]
  },
  {
   "cell_type": "markdown",
   "id": "72440cf6",
   "metadata": {
    "slideshow": {
     "slide_type": "fragment"
    }
   },
   "source": [
    "**Solution:**"
   ]
  },
  {
   "cell_type": "code",
   "execution_count": 20,
   "id": "e683828d",
   "metadata": {
    "slideshow": {
     "slide_type": "fragment"
    }
   },
   "outputs": [],
   "source": [
    "@qml.qnode(dev)\n",
    "def quantum_node_state(params):\n",
    "    \n",
    "    quantum_circuit(params)\n",
    "    return qml.state()"
   ]
  },
  {
   "cell_type": "code",
   "execution_count": 21,
   "id": "eed69db0",
   "metadata": {
    "slideshow": {
     "slide_type": "fragment"
    }
   },
   "outputs": [
    {
     "data": {
      "text/plain": [
       "tensor([0.98+0.j, 0.12+0.j, 0.  +0.j, 0.  +0.j, 0.12+0.j, 0.02+0.j,\n",
       "        0.  +0.j, 0.  +0.j], requires_grad=True)"
      ]
     },
     "execution_count": 21,
     "metadata": {},
     "output_type": "execute_result"
    }
   ],
   "source": [
    "quantum_node_state([0,0,0,0.25,0.25]).round(2)"
   ]
  },
  {
   "cell_type": "markdown",
   "id": "2111d5cd",
   "metadata": {
    "slideshow": {
     "slide_type": "slide"
    }
   },
   "source": [
    "### Application to machine learning: Variational Classifier"
   ]
  },
  {
   "cell_type": "markdown",
   "id": "1e108e7c",
   "metadata": {
    "slideshow": {
     "slide_type": "subslide"
    }
   },
   "source": [
    "Let's solve, using what we learned, as silly classification problem. We are given arrays of length 4 whose elements are 0 or 1. We want to classify them according to their parity (even or odd number of 1s). \n",
    "\n",
    "- [0,0,0,1] has odd parity -> Assign 1\n",
    "- [0,0,1,1] has even parity -> Assign -1"
   ]
  },
  {
   "cell_type": "markdown",
   "id": "c72628d2",
   "metadata": {
    "slideshow": {
     "slide_type": "subslide"
    }
   },
   "source": [
    "**Extra step:** Encode the data. Here we use four basis qubit to encode the list."
   ]
  },
  {
   "cell_type": "code",
   "execution_count": 22,
   "id": "96095e01",
   "metadata": {
    "slideshow": {
     "slide_type": "fragment"
    }
   },
   "outputs": [],
   "source": [
    "dev = qml.device(\"default.qubit\", wires=4)"
   ]
  },
  {
   "cell_type": "code",
   "execution_count": 23,
   "id": "23373ae0",
   "metadata": {
    "slideshow": {
     "slide_type": "fragment"
    }
   },
   "outputs": [],
   "source": [
    "def statepreparation(x):\n",
    "    qml.BasisState(x, wires=[0, 1, 2, 3])"
   ]
  },
  {
   "cell_type": "markdown",
   "id": "dbf21cdb",
   "metadata": {
    "slideshow": {
     "slide_type": "fragment"
    }
   },
   "source": [
    "E.g [0,1,0,1] is encoded in the state $\\vert 0101 \\rangle$. "
   ]
  },
  {
   "cell_type": "markdown",
   "id": "120ca47f",
   "metadata": {
    "slideshow": {
     "slide_type": "subslide"
    }
   },
   "source": [
    "We write the basic quantum layer of our classifier.\n",
    "\n",
    "![vqc_circuit](images/vqc_circuit.png)"
   ]
  },
  {
   "cell_type": "code",
   "execution_count": 24,
   "id": "b8ce5eb4",
   "metadata": {
    "slideshow": {
     "slide_type": "subslide"
    }
   },
   "outputs": [],
   "source": [
    "def layer(W):\n",
    "\n",
    "    qml.Rot(W[0, 0], W[0, 1], W[0, 2], wires=0)\n",
    "    qml.Rot(W[1, 0], W[1, 1], W[1, 2], wires=1)\n",
    "    qml.Rot(W[2, 0], W[2, 1], W[2, 2], wires=2)\n",
    "    qml.Rot(W[3, 0], W[3, 1], W[3, 2], wires=3)\n",
    "\n",
    "    qml.CNOT(wires=[0, 1])\n",
    "    qml.CNOT(wires=[1, 2])\n",
    "    qml.CNOT(wires=[2, 3])\n",
    "    qml.CNOT(wires=[3, 0])"
   ]
  },
  {
   "cell_type": "markdown",
   "id": "36f2bc9f",
   "metadata": {
    "slideshow": {
     "slide_type": "fragment"
    }
   },
   "source": [
    "Here $W$ is the matrix\n",
    "\n",
    "$ W = \\left( \\begin{array}{ccc} \\theta_0 & \\phi_0  & \\omega_0 \\\\ \\theta_1 & \\phi_1  & \\omega_1  \\\\ \\theta_2 & \\phi_2  & \\omega_2 \\\\ \\theta_3 & \\phi_3  & \\omega_3 \\end{array} \\right)$"
   ]
  },
  {
   "cell_type": "markdown",
   "id": "251ea1af",
   "metadata": {
    "slideshow": {
     "slide_type": "subslide"
    }
   },
   "source": [
    "The circuit piles up a lot a bunch of these layers"
   ]
  },
  {
   "cell_type": "code",
   "execution_count": 25,
   "id": "e8c75cf8",
   "metadata": {
    "slideshow": {
     "slide_type": "fragment"
    }
   },
   "outputs": [],
   "source": [
    "@qml.qnode(dev, interface=\"autograd\")\n",
    "def circuit(weights, x):\n",
    "\n",
    "    statepreparation(x)\n",
    "\n",
    "    for W in weights:\n",
    "        layer(W)\n",
    "\n",
    "    return qml.expval(qml.PauliZ(0))"
   ]
  },
  {
   "cell_type": "markdown",
   "id": "81b1084b",
   "metadata": {
    "slideshow": {
     "slide_type": "fragment"
    }
   },
   "source": [
    "We add a bias as well:"
   ]
  },
  {
   "cell_type": "code",
   "execution_count": 26,
   "id": "927df67f",
   "metadata": {
    "slideshow": {
     "slide_type": "fragment"
    }
   },
   "outputs": [],
   "source": [
    "def variational_classifier(weights, bias, x):\n",
    "    return circuit(weights, x) + bias"
   ]
  },
  {
   "cell_type": "markdown",
   "id": "3009df26",
   "metadata": {
    "slideshow": {
     "slide_type": "subslide"
    }
   },
   "source": [
    "Define our square loss"
   ]
  },
  {
   "cell_type": "code",
   "execution_count": 27,
   "id": "804a994e",
   "metadata": {
    "slideshow": {
     "slide_type": "fragment"
    }
   },
   "outputs": [],
   "source": [
    "def square_loss(labels, predictions):\n",
    "    loss = 0\n",
    "    for l, p in zip(labels, predictions):\n",
    "        loss = loss + (l - p) ** 2\n",
    "\n",
    "    loss = loss / len(labels)\n",
    "    return loss"
   ]
  },
  {
   "cell_type": "markdown",
   "id": "a3fcd3c8",
   "metadata": {
    "slideshow": {
     "slide_type": "subslide"
    }
   },
   "source": [
    "And our model accuracy"
   ]
  },
  {
   "cell_type": "code",
   "execution_count": 28,
   "id": "56ea2c1e",
   "metadata": {
    "slideshow": {
     "slide_type": "fragment"
    }
   },
   "outputs": [],
   "source": [
    "def accuracy(labels, predictions):\n",
    "\n",
    "    loss = 0\n",
    "    for l, p in zip(labels, predictions):\n",
    "        if abs(l - p) < 1e-5:\n",
    "            loss = loss + 1\n",
    "    loss = loss / len(labels)\n",
    "\n",
    "    return loss"
   ]
  },
  {
   "cell_type": "markdown",
   "id": "65fde145",
   "metadata": {
    "slideshow": {
     "slide_type": "subslide"
    }
   },
   "source": [
    "And with this we have our cost function"
   ]
  },
  {
   "cell_type": "code",
   "execution_count": 29,
   "id": "b21b5104",
   "metadata": {
    "slideshow": {
     "slide_type": "fragment"
    }
   },
   "outputs": [],
   "source": [
    "def cost(weights, bias, X, Y):\n",
    "    predictions = [variational_classifier(weights, bias, x) for x in X]\n",
    "    return square_loss(Y, predictions)"
   ]
  },
  {
   "cell_type": "markdown",
   "id": "a9c8c42d",
   "metadata": {
    "slideshow": {
     "slide_type": "subslide"
    }
   },
   "source": [
    "Now we load some data"
   ]
  },
  {
   "cell_type": "code",
   "execution_count": 30,
   "id": "f8436768",
   "metadata": {
    "slideshow": {
     "slide_type": "fragment"
    }
   },
   "outputs": [
    {
     "name": "stdout",
     "output_type": "stream",
     "text": [
      "X = [0. 0. 0. 0.], Y = -1\n",
      "X = [0. 0. 0. 1.], Y =  1\n",
      "X = [0. 0. 1. 0.], Y =  1\n",
      "X = [0. 0. 1. 1.], Y = -1\n",
      "X = [0. 1. 0. 0.], Y =  1\n",
      "...\n"
     ]
    }
   ],
   "source": [
    "data = np.loadtxt(\"variational_classifier/data.txt\")\n",
    "X = np.array(data[:, :-1], requires_grad=False)\n",
    "Y = np.array(data[:, -1], requires_grad=False)\n",
    "Y = Y * 2 - np.ones(len(Y))  # shift label from {0, 1} to {-1, 1}\n",
    "\n",
    "for i in range(5):\n",
    "    print(\"X = {}, Y = {: d}\".format(X[i], int(Y[i])))\n",
    "\n",
    "print(\"...\")"
   ]
  },
  {
   "cell_type": "markdown",
   "id": "ae3eae56",
   "metadata": {
    "slideshow": {
     "slide_type": "subslide"
    }
   },
   "source": [
    "Generate some random initial weights"
   ]
  },
  {
   "cell_type": "code",
   "execution_count": 31,
   "id": "ba2aeb0c",
   "metadata": {
    "slideshow": {
     "slide_type": "fragment"
    }
   },
   "outputs": [
    {
     "name": "stdout",
     "output_type": "stream",
     "text": [
      "[[[ 0.01764052  0.00400157  0.00978738]\n",
      "  [ 0.02240893  0.01867558 -0.00977278]\n",
      "  [ 0.00950088 -0.00151357 -0.00103219]\n",
      "  [ 0.00410599  0.00144044  0.01454274]]\n",
      "\n",
      " [[ 0.00761038  0.00121675  0.00443863]\n",
      "  [ 0.00333674  0.01494079 -0.00205158]\n",
      "  [ 0.00313068 -0.00854096 -0.0255299 ]\n",
      "  [ 0.00653619  0.00864436 -0.00742165]]] 0.0\n"
     ]
    }
   ],
   "source": [
    "np.random.seed(0)\n",
    "num_qubits = 4\n",
    "num_layers = 2\n",
    "weights_init = 0.01 * np.random.randn(num_layers, num_qubits, 3, requires_grad=True)\n",
    "bias_init = np.array(0.0, requires_grad=True)\n",
    "\n",
    "print(weights_init, bias_init)"
   ]
  },
  {
   "cell_type": "markdown",
   "id": "261697f8",
   "metadata": {
    "slideshow": {
     "slide_type": "subslide"
    }
   },
   "source": [
    "Run the optimizer"
   ]
  },
  {
   "cell_type": "code",
   "execution_count": 32,
   "id": "639d0dca",
   "metadata": {
    "slideshow": {
     "slide_type": "fragment"
    }
   },
   "outputs": [],
   "source": [
    "opt = qml.optimize.NesterovMomentumOptimizer(0.5)\n",
    "batch_size = 5"
   ]
  },
  {
   "cell_type": "code",
   "execution_count": 33,
   "id": "4f68e3d8",
   "metadata": {
    "slideshow": {
     "slide_type": "fragment"
    }
   },
   "outputs": [
    {
     "name": "stdout",
     "output_type": "stream",
     "text": [
      "Iter:     1 | Cost: 3.4355534 | Accuracy: 0.5000000 \n",
      "Iter:     2 | Cost: 1.9717733 | Accuracy: 0.5000000 \n",
      "Iter:     3 | Cost: 1.8182812 | Accuracy: 0.5000000 \n",
      "Iter:     4 | Cost: 1.5042404 | Accuracy: 0.5000000 \n",
      "Iter:     5 | Cost: 1.1477739 | Accuracy: 0.5000000 \n",
      "Iter:     6 | Cost: 1.2734990 | Accuracy: 0.6250000 \n",
      "Iter:     7 | Cost: 0.8290628 | Accuracy: 0.5000000 \n",
      "Iter:     8 | Cost: 0.3226183 | Accuracy: 1.0000000 \n",
      "Iter:     9 | Cost: 0.1436206 | Accuracy: 1.0000000 \n",
      "Iter:    10 | Cost: 0.2982810 | Accuracy: 1.0000000 \n"
     ]
    }
   ],
   "source": [
    "weights = weights_init\n",
    "bias = bias_init\n",
    "for it in range(10):\n",
    "\n",
    "    # Update the weights by one optimizer step\n",
    "    batch_index = np.random.randint(0, len(X), (batch_size,))\n",
    "    X_batch = X[batch_index]\n",
    "    Y_batch = Y[batch_index]\n",
    "    weights, bias, _, _ = opt.step(cost, weights, bias, X_batch, Y_batch)\n",
    "\n",
    "    # Compute accuracy\n",
    "    predictions = [np.sign(variational_classifier(weights, bias, x)) for x in X]\n",
    "    acc = accuracy(Y, predictions)\n",
    "\n",
    "    print(\n",
    "        \"Iter: {:5d} | Cost: {:0.7f} | Accuracy: {:0.7f} \".format(\n",
    "            it + 1, cost(weights, bias, X, Y), acc\n",
    "        )\n",
    "    )"
   ]
  },
  {
   "cell_type": "code",
   "execution_count": 34,
   "id": "4775bb6e",
   "metadata": {
    "slideshow": {
     "slide_type": "subslide"
    }
   },
   "outputs": [
    {
     "name": "stdout",
     "output_type": "stream",
     "text": [
      "Iter:     1 | Cost: 1.9818724 | Accuracy: 0.5000000 \n",
      "Iter:     2 | Cost: 1.2707072 | Accuracy: 0.5000000 \n",
      "Iter:     3 | Cost: 1.2892865 | Accuracy: 0.5000000 \n",
      "Iter:     4 | Cost: 1.3330569 | Accuracy: 0.5000000 \n",
      "Iter:     5 | Cost: 1.7284673 | Accuracy: 0.5000000 \n",
      "Iter:     6 | Cost: 1.2516154 | Accuracy: 0.5000000 \n",
      "Iter:     7 | Cost: 0.9170268 | Accuracy: 0.7500000 \n",
      "Iter:     8 | Cost: 0.5192060 | Accuracy: 0.7500000 \n",
      "Iter:     9 | Cost: 0.5106025 | Accuracy: 0.7500000 \n",
      "Iter:    10 | Cost: 0.3721737 | Accuracy: 1.0000000 \n"
     ]
    }
   ],
   "source": [
    "weights = weights_init\n",
    "bias = bias_init\n",
    "for it in range(10):\n",
    "\n",
    "    # Update the weights by one optimizer step\n",
    "    batch_index = np.random.randint(0, len(X), (batch_size,))\n",
    "    X_batch = X[batch_index]\n",
    "    Y_batch = Y[batch_index]\n",
    "    weights, bias, _, _ = opt.step(cost, weights, bias, X_batch, Y_batch)\n",
    "\n",
    "    # Compute accuracy\n",
    "    predictions = [np.sign(variational_classifier(weights, bias, x)) for x in X]\n",
    "    acc = accuracy(Y, predictions)\n",
    "\n",
    "    print(\n",
    "        \"Iter: {:5d} | Cost: {:0.7f} | Accuracy: {:0.7f} \".format(\n",
    "            it + 1, cost(weights, bias, X, Y), acc\n",
    "        )\n",
    "    )"
   ]
  },
  {
   "cell_type": "code",
   "execution_count": null,
   "id": "69d188d8",
   "metadata": {},
   "outputs": [],
   "source": []
  }
 ],
 "metadata": {
  "celltoolbar": "Slideshow",
  "kernelspec": {
   "display_name": "Python 3 (ipykernel)",
   "language": "python",
   "name": "python3"
  },
  "language_info": {
   "codemirror_mode": {
    "name": "ipython",
    "version": 3
   },
   "file_extension": ".py",
   "mimetype": "text/x-python",
   "name": "python",
   "nbconvert_exporter": "python",
   "pygments_lexer": "ipython3",
   "version": "3.8.8"
  }
 },
 "nbformat": 4,
 "nbformat_minor": 5
}
